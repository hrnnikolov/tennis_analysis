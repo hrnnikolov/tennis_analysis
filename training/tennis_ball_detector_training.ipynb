{
 "cells": [
  {
   "cell_type": "markdown",
   "id": "cd93ef5b-ed0c-497d-87be-df24309aad82",
   "metadata": {},
   "source": [
    "### GET DATA"
   ]
  },
  {
   "cell_type": "code",
   "execution_count": 7,
   "id": "5b550076-66cc-4572-a9c3-8f9a18f91ac6",
   "metadata": {},
   "outputs": [
    {
     "data": {
      "text/plain": [
       "'tennis_ball_detection_6/tennis_ball_detection_6/valid'"
      ]
     },
     "execution_count": 7,
     "metadata": {},
     "output_type": "execute_result"
    }
   ],
   "source": [
    "import shutil\n",
    "\n",
    "shutil.move('tennis_ball_detection_6/train',\n",
    "           'tennis_ball_detection_6/tennis_ball_detection_6/train')\n",
    "\n",
    "shutil.move('tennis_ball_detection_6/test',\n",
    "           'tennis_ball_detection_6/tennis_ball_detection_6/test')\n",
    "\n",
    "shutil.move('tennis_ball_detection_6/valid',\n",
    "           'tennis_ball_detection_6/tennis_ball_detection_6/valid')"
   ]
  },
  {
   "cell_type": "code",
   "execution_count": 8,
   "id": "c2959adf-7953-4c60-bb6d-b7c03a2069e4",
   "metadata": {},
   "outputs": [
    {
     "name": "stderr",
     "output_type": "stream",
     "text": [
      "Traceback (most recent call last):\n",
      "  File \"C:\\Users\\hnikolov\\AppData\\Local\\anaconda3\\lib\\runpy.py\", line 196, in _run_module_as_main\n",
      "    return _run_code(code, main_globals, None,\n",
      "  File \"C:\\Users\\hnikolov\\AppData\\Local\\anaconda3\\lib\\runpy.py\", line 86, in _run_code\n",
      "    exec(code, run_globals)\n",
      "  File \"C:\\Users\\hnikolov\\AppData\\Local\\anaconda3\\Scripts\\yolo.exe\\__main__.py\", line 7, in <module>\n",
      "  File \"C:\\Users\\hnikolov\\AppData\\Local\\anaconda3\\lib\\site-packages\\ultralytics\\cfg\\__init__.py\", line 556, in entrypoint\n",
      "    model = YOLO(model, task=task)\n",
      "  File \"C:\\Users\\hnikolov\\AppData\\Local\\anaconda3\\lib\\site-packages\\ultralytics\\models\\yolo\\model.py\", line 23, in __init__\n",
      "    super().__init__(model=model, task=task, verbose=verbose)\n",
      "  File \"C:\\Users\\hnikolov\\AppData\\Local\\anaconda3\\lib\\site-packages\\ultralytics\\engine\\model.py\", line 151, in __init__\n",
      "    self._load(model, task=task)\n",
      "  File \"C:\\Users\\hnikolov\\AppData\\Local\\anaconda3\\lib\\site-packages\\ultralytics\\engine\\model.py\", line 240, in _load\n",
      "    self.model, self.ckpt = attempt_load_one_weight(weights)\n",
      "  File \"C:\\Users\\hnikolov\\AppData\\Local\\anaconda3\\lib\\site-packages\\ultralytics\\nn\\tasks.py\", line 806, in attempt_load_one_weight\n",
      "    ckpt, weight = torch_safe_load(weight)  # load ckpt\n",
      "  File \"C:\\Users\\hnikolov\\AppData\\Local\\anaconda3\\lib\\site-packages\\ultralytics\\nn\\tasks.py\", line 732, in torch_safe_load\n",
      "    ckpt = torch.load(file, map_location=\"cpu\")\n",
      "  File \"C:\\Users\\hnikolov\\AppData\\Local\\anaconda3\\lib\\site-packages\\torch\\serialization.py\", line 998, in load\n",
      "    with _open_file_like(f, 'rb') as opened_file:\n",
      "  File \"C:\\Users\\hnikolov\\AppData\\Local\\anaconda3\\lib\\site-packages\\torch\\serialization.py\", line 445, in _open_file_like\n",
      "    return _open_file(name_or_buffer, mode)\n",
      "  File \"C:\\Users\\hnikolov\\AppData\\Local\\anaconda3\\lib\\site-packages\\torch\\serialization.py\", line 426, in __init__\n",
      "    super().__init__(open(name, mode))\n",
      "FileNotFoundError: [Errno 2] No such file or directory: 'yolov516u.pt'\n"
     ]
    }
   ],
   "source": [
    "!yolo task=detect mode=train model=yolov516u.pt data={dataset.location}/data.yaml epochs=100 imgsz=640"
   ]
  },
  {
   "cell_type": "code",
   "execution_count": null,
   "id": "96c44926-75c1-42ad-8c81-8edfb55dd0a7",
   "metadata": {},
   "outputs": [],
   "source": []
  }
 ],
 "metadata": {
  "kernelspec": {
   "display_name": "Python 3 (ipykernel)",
   "language": "python",
   "name": "python3"
  },
  "language_info": {
   "codemirror_mode": {
    "name": "ipython",
    "version": 3
   },
   "file_extension": ".py",
   "mimetype": "text/x-python",
   "name": "python",
   "nbconvert_exporter": "python",
   "pygments_lexer": "ipython3",
   "version": "3.10.9"
  }
 },
 "nbformat": 4,
 "nbformat_minor": 5
}
