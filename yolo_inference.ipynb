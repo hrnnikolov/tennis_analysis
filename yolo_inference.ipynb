{
 "cells": [
  {
   "cell_type": "code",
   "execution_count": null,
   "id": "53ec4615-f0f3-4c73-ad5b-6d77f2929eb5",
   "metadata": {},
   "outputs": [
    {
     "name": "stdout",
     "output_type": "stream",
     "text": [
      "\n",
      "\n",
      "WARNING  inference results will accumulate in RAM unless `stream=True` is passed, causing potential out-of-memory\n",
      "errors for large sources or long-running streams and videos. See https://docs.ultralytics.com/modes/predict/ for help.\n",
      "\n",
      "Example:\n",
      "    results = model(source=..., stream=True)  # generator of Results objects\n",
      "    for r in results:\n",
      "        boxes = r.boxes  # Boxes object for bbox outputs\n",
      "        masks = r.masks  # Masks object for segment masks outputs\n",
      "        probs = r.probs  # Class probabilities for classification outputs\n",
      "\n",
      "video 1/1 (frame 1/214) C:\\Users\\hnikolov\\Desktop\\backups\\scripts_jupyter\\data_science_ML_projects\\Tennis_analysis\\resourses\\input_video.mp4: 384x640 5 persons, 1 tennis racket, 844.5ms\n"
     ]
    }
   ],
   "source": [
    "from ultralytics import YOLO\n",
    "\n",
    "model = YOLO('yolov8x')\n",
    "\n",
    "result = model.track('resourses/input_video.mp4',\n",
    "                       conf=0.2,\n",
    "                       save=True)\n",
    "# print(result)\n",
    "# print('boxes:')\n",
    "\n",
    "# for box in result[0].boxes:\n",
    "#     print(box)"
   ]
  },
  {
   "cell_type": "code",
   "execution_count": null,
   "id": "b4a4cb8e-075b-48ca-9e4e-608f0d24ae50",
   "metadata": {},
   "outputs": [],
   "source": []
  }
 ],
 "metadata": {
  "kernelspec": {
   "display_name": "Python 3 (ipykernel)",
   "language": "python",
   "name": "python3"
  },
  "language_info": {
   "codemirror_mode": {
    "name": "ipython",
    "version": 3
   },
   "file_extension": ".py",
   "mimetype": "text/x-python",
   "name": "python",
   "nbconvert_exporter": "python",
   "pygments_lexer": "ipython3",
   "version": "3.10.9"
  }
 },
 "nbformat": 4,
 "nbformat_minor": 5
}
